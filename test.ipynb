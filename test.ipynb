{
 "cells": [
  {
   "cell_type": "code",
   "execution_count": 18,
   "metadata": {},
   "outputs": [],
   "source": [
    "import pandas as pd "
   ]
  },
  {
   "cell_type": "code",
   "execution_count": 19,
   "metadata": {},
   "outputs": [],
   "source": [
    "d1=pd.read_excel(\"Dharmapuram_intern.xlsx\",index_col=0)"
   ]
  },
  {
   "cell_type": "code",
   "execution_count": 20,
   "metadata": {},
   "outputs": [
    {
     "data": {
      "text/html": [
       "<div>\n",
       "<style scoped>\n",
       "    .dataframe tbody tr th:only-of-type {\n",
       "        vertical-align: middle;\n",
       "    }\n",
       "\n",
       "    .dataframe tbody tr th {\n",
       "        vertical-align: top;\n",
       "    }\n",
       "\n",
       "    .dataframe thead th {\n",
       "        text-align: right;\n",
       "    }\n",
       "</style>\n",
       "<table border=\"1\" class=\"dataframe\">\n",
       "  <thead>\n",
       "    <tr style=\"text-align: right;\">\n",
       "      <th></th>\n",
       "      <th>e-mail id</th>\n",
       "      <th>Register No</th>\n",
       "      <th>Intern Topic</th>\n",
       "      <th>Class timing</th>\n",
       "      <th>WhatsApp Number</th>\n",
       "      <th>Expectation about class</th>\n",
       "    </tr>\n",
       "    <tr>\n",
       "      <th>Name</th>\n",
       "      <th></th>\n",
       "      <th></th>\n",
       "      <th></th>\n",
       "      <th></th>\n",
       "      <th></th>\n",
       "      <th></th>\n",
       "    </tr>\n",
       "  </thead>\n",
       "  <tbody>\n",
       "    <tr>\n",
       "      <th>M.Srimathi</th>\n",
       "      <td>srimathim508@gmail.com</td>\n",
       "      <td>23134066513922008</td>\n",
       "      <td>Optical physics</td>\n",
       "      <td>04:00:00</td>\n",
       "      <td>9025141758</td>\n",
       "      <td>Explore more details about the topic and also ...</td>\n",
       "    </tr>\n",
       "    <tr>\n",
       "      <th>N.Akilandeswari</th>\n",
       "      <td>akilandeswariakilandeswari710@gmail.com</td>\n",
       "      <td>23134066513922002</td>\n",
       "      <td>Theoretical physics</td>\n",
       "      <td>16:00:00</td>\n",
       "      <td>7558190710</td>\n",
       "      <td>I think it will be useful</td>\n",
       "    </tr>\n",
       "    <tr>\n",
       "      <th>R. Bhuvaneshwari</th>\n",
       "      <td>rajendranbhuvi649@gmail. Com</td>\n",
       "      <td>23134066513922003</td>\n",
       "      <td>Nano physics</td>\n",
       "      <td>04:00:00</td>\n",
       "      <td>6369339388</td>\n",
       "      <td>Be kind and encourage others</td>\n",
       "    </tr>\n",
       "    <tr>\n",
       "      <th>T.Vidhya</th>\n",
       "      <td>vidhyatm2020@gmail.com</td>\n",
       "      <td>23134066513922009</td>\n",
       "      <td>Thermal Physics</td>\n",
       "      <td>16:00:00</td>\n",
       "      <td>9944292154</td>\n",
       "      <td>Be kind and encourage others</td>\n",
       "    </tr>\n",
       "    <tr>\n",
       "      <th>P. Dhivya</th>\n",
       "      <td>Pd021494@gmail.com</td>\n",
       "      <td>23134066513922004</td>\n",
       "      <td>Electronics</td>\n",
       "      <td>16:00:00</td>\n",
       "      <td>9361313451</td>\n",
       "      <td>My expectation are achievement, satisfaction o...</td>\n",
       "    </tr>\n",
       "    <tr>\n",
       "      <th>S.Sivasakthi</th>\n",
       "      <td>ssakthisivakumar2003@gmail.com</td>\n",
       "      <td>23134066513922007</td>\n",
       "      <td>Acoustics</td>\n",
       "      <td>04:00:00</td>\n",
       "      <td>9345986617</td>\n",
       "      <td>Be kind and encourage others</td>\n",
       "    </tr>\n",
       "    <tr>\n",
       "      <th>LAVANYA R</th>\n",
       "      <td>lavanyaaramesh2405@gmail.com</td>\n",
       "      <td>23134066513922005</td>\n",
       "      <td>Medical physics</td>\n",
       "      <td>16:00:00</td>\n",
       "      <td>9994784461</td>\n",
       "      <td>Learn and gain experience..</td>\n",
       "    </tr>\n",
       "    <tr>\n",
       "      <th>R.Aarthy</th>\n",
       "      <td>rmanickam348@gmail.com</td>\n",
       "      <td>23134066513922001</td>\n",
       "      <td>Spectroscopy</td>\n",
       "      <td>16:00:00</td>\n",
       "      <td>9047896029</td>\n",
       "      <td>Useful class</td>\n",
       "    </tr>\n",
       "    <tr>\n",
       "      <th>S. Selvapriya</th>\n",
       "      <td>selvapriyasp1431@gmail.com</td>\n",
       "      <td>23134066513922000</td>\n",
       "      <td>Electronics</td>\n",
       "      <td>04:00:00</td>\n",
       "      <td>9943465630</td>\n",
       "      <td>Learn more things about the title. Develop my ...</td>\n",
       "    </tr>\n",
       "  </tbody>\n",
       "</table>\n",
       "</div>"
      ],
      "text/plain": [
       "                                                e-mail id        Register No  \\\n",
       "Name                                                                           \n",
       "M.Srimathi                         srimathim508@gmail.com  23134066513922008   \n",
       "N.Akilandeswari   akilandeswariakilandeswari710@gmail.com  23134066513922002   \n",
       "R. Bhuvaneshwari             rajendranbhuvi649@gmail. Com  23134066513922003   \n",
       "T.Vidhya                           vidhyatm2020@gmail.com  23134066513922009   \n",
       "P. Dhivya                              Pd021494@gmail.com  23134066513922004   \n",
       "S.Sivasakthi               ssakthisivakumar2003@gmail.com  23134066513922007   \n",
       "LAVANYA R                    lavanyaaramesh2405@gmail.com  23134066513922005   \n",
       "R.Aarthy                           rmanickam348@gmail.com  23134066513922001   \n",
       "S. Selvapriya                  selvapriyasp1431@gmail.com  23134066513922000   \n",
       "\n",
       "                        Intern Topic   Class timing   WhatsApp Number  \\\n",
       "Name                                                                    \n",
       "M.Srimathi            Optical physics       04:00:00       9025141758   \n",
       "N.Akilandeswari   Theoretical physics       16:00:00       7558190710   \n",
       "R. Bhuvaneshwari          Nano physics      04:00:00       6369339388   \n",
       "T.Vidhya               Thermal Physics      16:00:00       9944292154   \n",
       "P. Dhivya                  Electronics      16:00:00       9361313451   \n",
       "S.Sivasakthi                Acoustics       04:00:00       9345986617   \n",
       "LAVANYA R              Medical physics      16:00:00       9994784461   \n",
       "R.Aarthy                 Spectroscopy       16:00:00       9047896029   \n",
       "S. Selvapriya              Electronics      04:00:00       9943465630   \n",
       "\n",
       "                                            Expectation about class  \n",
       "Name                                                                 \n",
       "M.Srimathi        Explore more details about the topic and also ...  \n",
       "N.Akilandeswari                          I think it will be useful   \n",
       "R. Bhuvaneshwari                       Be kind and encourage others  \n",
       "T.Vidhya                              Be kind and encourage others   \n",
       "P. Dhivya         My expectation are achievement, satisfaction o...  \n",
       "S.Sivasakthi                          Be kind and encourage others   \n",
       "LAVANYA R                               Learn and gain experience..  \n",
       "R.Aarthy                                              Useful class   \n",
       "S. Selvapriya     Learn more things about the title. Develop my ...  "
      ]
     },
     "execution_count": 20,
     "metadata": {},
     "output_type": "execute_result"
    }
   ],
   "source": [
    "d1"
   ]
  },
  {
   "cell_type": "code",
   "execution_count": 21,
   "metadata": {},
   "outputs": [
    {
     "data": {
      "text/plain": [
       "Index(['M.Srimathi', 'N.Akilandeswari', 'R. Bhuvaneshwari', 'T.Vidhya',\n",
       "       'P. Dhivya', 'S.Sivasakthi', 'LAVANYA R', 'R.Aarthy ',\n",
       "       'S. Selvapriya '],\n",
       "      dtype='object', name='Name')"
      ]
     },
     "execution_count": 21,
     "metadata": {},
     "output_type": "execute_result"
    }
   ],
   "source": [
    "d1.index"
   ]
  },
  {
   "cell_type": "code",
   "execution_count": 22,
   "metadata": {},
   "outputs": [
    {
     "data": {
      "text/plain": [
       "e-mail id                                         selvapriyasp1431@gmail.com\n",
       "Register No                                                23134066513922000\n",
       "Intern Topic                                                     Electronics\n",
       "Class timing                                                        04:00:00\n",
       "WhatsApp Number                                                   9943465630\n",
       "Expectation about class    Learn more things about the title. Develop my ...\n",
       "Name: S. Selvapriya , dtype: object"
      ]
     },
     "execution_count": 22,
     "metadata": {},
     "output_type": "execute_result"
    }
   ],
   "source": [
    "d1.loc[\"S. Selvapriya \"]"
   ]
  },
  {
   "cell_type": "code",
   "execution_count": 23,
   "metadata": {},
   "outputs": [],
   "source": [
    "d2=d1.T"
   ]
  },
  {
   "cell_type": "code",
   "execution_count": 24,
   "metadata": {},
   "outputs": [
    {
     "data": {
      "text/html": [
       "<div>\n",
       "<style scoped>\n",
       "    .dataframe tbody tr th:only-of-type {\n",
       "        vertical-align: middle;\n",
       "    }\n",
       "\n",
       "    .dataframe tbody tr th {\n",
       "        vertical-align: top;\n",
       "    }\n",
       "\n",
       "    .dataframe thead th {\n",
       "        text-align: right;\n",
       "    }\n",
       "</style>\n",
       "<table border=\"1\" class=\"dataframe\">\n",
       "  <thead>\n",
       "    <tr style=\"text-align: right;\">\n",
       "      <th>Name</th>\n",
       "      <th>M.Srimathi</th>\n",
       "      <th>N.Akilandeswari</th>\n",
       "      <th>R. Bhuvaneshwari</th>\n",
       "      <th>T.Vidhya</th>\n",
       "      <th>P. Dhivya</th>\n",
       "      <th>S.Sivasakthi</th>\n",
       "      <th>LAVANYA R</th>\n",
       "      <th>R.Aarthy</th>\n",
       "      <th>S. Selvapriya</th>\n",
       "    </tr>\n",
       "  </thead>\n",
       "  <tbody>\n",
       "    <tr>\n",
       "      <th>e-mail id</th>\n",
       "      <td>srimathim508@gmail.com</td>\n",
       "      <td>akilandeswariakilandeswari710@gmail.com</td>\n",
       "      <td>rajendranbhuvi649@gmail. Com</td>\n",
       "      <td>vidhyatm2020@gmail.com</td>\n",
       "      <td>Pd021494@gmail.com</td>\n",
       "      <td>ssakthisivakumar2003@gmail.com</td>\n",
       "      <td>lavanyaaramesh2405@gmail.com</td>\n",
       "      <td>rmanickam348@gmail.com</td>\n",
       "      <td>selvapriyasp1431@gmail.com</td>\n",
       "    </tr>\n",
       "    <tr>\n",
       "      <th>Register No</th>\n",
       "      <td>23134066513922008</td>\n",
       "      <td>23134066513922002</td>\n",
       "      <td>23134066513922003</td>\n",
       "      <td>23134066513922009</td>\n",
       "      <td>23134066513922004</td>\n",
       "      <td>23134066513922007</td>\n",
       "      <td>23134066513922005</td>\n",
       "      <td>23134066513922001</td>\n",
       "      <td>23134066513922000</td>\n",
       "    </tr>\n",
       "    <tr>\n",
       "      <th>Intern Topic</th>\n",
       "      <td>Optical physics</td>\n",
       "      <td>Theoretical physics</td>\n",
       "      <td>Nano physics</td>\n",
       "      <td>Thermal Physics</td>\n",
       "      <td>Electronics</td>\n",
       "      <td>Acoustics</td>\n",
       "      <td>Medical physics</td>\n",
       "      <td>Spectroscopy</td>\n",
       "      <td>Electronics</td>\n",
       "    </tr>\n",
       "    <tr>\n",
       "      <th>Class timing</th>\n",
       "      <td>04:00:00</td>\n",
       "      <td>16:00:00</td>\n",
       "      <td>04:00:00</td>\n",
       "      <td>16:00:00</td>\n",
       "      <td>16:00:00</td>\n",
       "      <td>04:00:00</td>\n",
       "      <td>16:00:00</td>\n",
       "      <td>16:00:00</td>\n",
       "      <td>04:00:00</td>\n",
       "    </tr>\n",
       "    <tr>\n",
       "      <th>WhatsApp Number</th>\n",
       "      <td>9025141758</td>\n",
       "      <td>7558190710</td>\n",
       "      <td>6369339388</td>\n",
       "      <td>9944292154</td>\n",
       "      <td>9361313451</td>\n",
       "      <td>9345986617</td>\n",
       "      <td>9994784461</td>\n",
       "      <td>9047896029</td>\n",
       "      <td>9943465630</td>\n",
       "    </tr>\n",
       "    <tr>\n",
       "      <th>Expectation about class</th>\n",
       "      <td>Explore more details about the topic and also ...</td>\n",
       "      <td>I think it will be useful</td>\n",
       "      <td>Be kind and encourage others</td>\n",
       "      <td>Be kind and encourage others</td>\n",
       "      <td>My expectation are achievement, satisfaction o...</td>\n",
       "      <td>Be kind and encourage others</td>\n",
       "      <td>Learn and gain experience..</td>\n",
       "      <td>Useful class</td>\n",
       "      <td>Learn more things about the title. Develop my ...</td>\n",
       "    </tr>\n",
       "  </tbody>\n",
       "</table>\n",
       "</div>"
      ],
      "text/plain": [
       "Name                                                            M.Srimathi  \\\n",
       "e-mail id                                           srimathim508@gmail.com   \n",
       "Register No                                              23134066513922008   \n",
       "Intern Topic                                              Optical physics    \n",
       "Class timing                                                      04:00:00   \n",
       "WhatsApp Number                                                 9025141758   \n",
       "Expectation about class  Explore more details about the topic and also ...   \n",
       "\n",
       "Name                                             N.Akilandeswari  \\\n",
       "e-mail id                akilandeswariakilandeswari710@gmail.com   \n",
       "Register No                                    23134066513922002   \n",
       "Intern Topic                                Theoretical physics    \n",
       "Class timing                                            16:00:00   \n",
       "WhatsApp Number                                       7558190710   \n",
       "Expectation about class               I think it will be useful    \n",
       "\n",
       "Name                                 R. Bhuvaneshwari  \\\n",
       "e-mail id                rajendranbhuvi649@gmail. Com   \n",
       "Register No                         23134066513922003   \n",
       "Intern Topic                             Nano physics   \n",
       "Class timing                                 04:00:00   \n",
       "WhatsApp Number                            6369339388   \n",
       "Expectation about class  Be kind and encourage others   \n",
       "\n",
       "Name                                          T.Vidhya  \\\n",
       "e-mail id                       vidhyatm2020@gmail.com   \n",
       "Register No                          23134066513922009   \n",
       "Intern Topic                           Thermal Physics   \n",
       "Class timing                                  16:00:00   \n",
       "WhatsApp Number                             9944292154   \n",
       "Expectation about class  Be kind and encourage others    \n",
       "\n",
       "Name                                                             P. Dhivya  \\\n",
       "e-mail id                                               Pd021494@gmail.com   \n",
       "Register No                                              23134066513922004   \n",
       "Intern Topic                                                   Electronics   \n",
       "Class timing                                                      16:00:00   \n",
       "WhatsApp Number                                                 9361313451   \n",
       "Expectation about class  My expectation are achievement, satisfaction o...   \n",
       "\n",
       "Name                                       S.Sivasakthi  \\\n",
       "e-mail id                ssakthisivakumar2003@gmail.com   \n",
       "Register No                           23134066513922007   \n",
       "Intern Topic                                 Acoustics    \n",
       "Class timing                                   04:00:00   \n",
       "WhatsApp Number                              9345986617   \n",
       "Expectation about class   Be kind and encourage others    \n",
       "\n",
       "Name                                        LAVANYA R               R.Aarthy   \\\n",
       "e-mail id                lavanyaaramesh2405@gmail.com  rmanickam348@gmail.com   \n",
       "Register No                         23134066513922005       23134066513922001   \n",
       "Intern Topic                          Medical physics           Spectroscopy    \n",
       "Class timing                                 16:00:00                16:00:00   \n",
       "WhatsApp Number                            9994784461              9047896029   \n",
       "Expectation about class   Learn and gain experience..           Useful class    \n",
       "\n",
       "Name                                                        S. Selvapriya   \n",
       "e-mail id                                       selvapriyasp1431@gmail.com  \n",
       "Register No                                              23134066513922000  \n",
       "Intern Topic                                                   Electronics  \n",
       "Class timing                                                      04:00:00  \n",
       "WhatsApp Number                                                 9943465630  \n",
       "Expectation about class  Learn more things about the title. Develop my ...  "
      ]
     },
     "execution_count": 24,
     "metadata": {},
     "output_type": "execute_result"
    }
   ],
   "source": [
    "d2"
   ]
  },
  {
   "cell_type": "code",
   "execution_count": 25,
   "metadata": {},
   "outputs": [
    {
     "data": {
      "text/plain": [
       "Name\n",
       "M.Srimathi                           srimathim508@gmail.com\n",
       "N.Akilandeswari     akilandeswariakilandeswari710@gmail.com\n",
       "R. Bhuvaneshwari               rajendranbhuvi649@gmail. Com\n",
       "T.Vidhya                             vidhyatm2020@gmail.com\n",
       "P. Dhivya                                Pd021494@gmail.com\n",
       "S.Sivasakthi                 ssakthisivakumar2003@gmail.com\n",
       "LAVANYA R                      lavanyaaramesh2405@gmail.com\n",
       "R.Aarthy                             rmanickam348@gmail.com\n",
       "S. Selvapriya                    selvapriyasp1431@gmail.com\n",
       "Name: e-mail id, dtype: object"
      ]
     },
     "execution_count": 25,
     "metadata": {},
     "output_type": "execute_result"
    }
   ],
   "source": [
    "d2.loc[\"e-mail id\"]"
   ]
  },
  {
   "cell_type": "code",
   "execution_count": 26,
   "metadata": {},
   "outputs": [],
   "source": [
    "d2.index=['e-mail id', 'Register No', 'Intern Topic', 'Class timing ','WhatsApp Number', 'Expectation about class']"
   ]
  },
  {
   "cell_type": "code",
   "execution_count": 27,
   "metadata": {},
   "outputs": [
    {
     "data": {
      "text/plain": [
       "Index(['e-mail id', 'Register No', 'Intern Topic', 'Class timing ',\n",
       "       'WhatsApp Number', 'Expectation about class'],\n",
       "      dtype='object')"
      ]
     },
     "execution_count": 27,
     "metadata": {},
     "output_type": "execute_result"
    }
   ],
   "source": [
    "d2.index"
   ]
  },
  {
   "cell_type": "code",
   "execution_count": 33,
   "metadata": {},
   "outputs": [
    {
     "data": {
      "text/plain": [
       "'Optical physics '"
      ]
     },
     "execution_count": 33,
     "metadata": {},
     "output_type": "execute_result"
    }
   ],
   "source": [
    "d2.loc[\"Intern Topic\",\"M.Srimathi\"]"
   ]
  },
  {
   "cell_type": "code",
   "execution_count": 29,
   "metadata": {},
   "outputs": [
    {
     "data": {
      "text/plain": [
       "Index(['M.Srimathi', 'N.Akilandeswari', 'R. Bhuvaneshwari', 'T.Vidhya',\n",
       "       'P. Dhivya', 'S.Sivasakthi', 'LAVANYA R', 'R.Aarthy ',\n",
       "       'S. Selvapriya '],\n",
       "      dtype='object', name='Name')"
      ]
     },
     "execution_count": 29,
     "metadata": {},
     "output_type": "execute_result"
    }
   ],
   "source": [
    "d2.columns"
   ]
  },
  {
   "cell_type": "code",
   "execution_count": null,
   "metadata": {},
   "outputs": [],
   "source": []
  }
 ],
 "metadata": {
  "kernelspec": {
   "display_name": "Python 3",
   "language": "python",
   "name": "python3"
  },
  "language_info": {
   "codemirror_mode": {
    "name": "ipython",
    "version": 3
   },
   "file_extension": ".py",
   "mimetype": "text/x-python",
   "name": "python",
   "nbconvert_exporter": "python",
   "pygments_lexer": "ipython3",
   "version": "3.12.3"
  }
 },
 "nbformat": 4,
 "nbformat_minor": 2
}
